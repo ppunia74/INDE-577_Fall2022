{
 "cells": [
  {
   "cell_type": "markdown",
   "metadata": {},
   "source": [
    "# Logistic Regression"
   ]
  },
  {
   "cell_type": "markdown",
   "metadata": {},
   "source": [
    "### In Class Practice\n",
    "\n",
    "In this notebooke, I will implement logistic regression using candidates dataset. \n",
    "\n",
    "\n",
    "#### Goal\n",
    "Given student informaion (such as GMAT score and SAT score), to predict whether the student can be admitted or rejected by the college.\n",
    "\n",
    "#### Candidates dataset\n",
    "\n",
    "The candidates dataset is a historical admissions records of the college, which contains 4 columns:\n",
    "* gmat: The GMAT score of the student\n",
    "* gpa: The GPA in 4.0 scale of the student\n",
    "* work_experience: The number of work experience the student had\n",
    "* admitted: Whether the student be admitted (marked as \"1\") or rejected (marked as \"0\") by the college\n",
    "\n",
    "#### Tools\n",
    "\n",
    "In order to achieve the goal, we will need the following libraries:\n",
    "\n",
    "* [pandas](http://pandas.pydata.org)\n",
    "* [numpy](https://numpy.org/doc/stable/index.html)\n",
    "* [matplotlib](http://metplotlib.org)\n",
    "    - Set the backend of matplotlib to the 'inline' backend ([learn more](https://ipython.readthedocs.io/en/stable/interactive/plotting.html))"
   ]
  },
  {
   "cell_type": "code",
   "execution_count": 1,
   "metadata": {},
   "outputs": [],
   "source": [
    "# Import the necessary libraries\n",
    "import pandas as pd\n",
    "import numpy as np\n",
    "import matplotlib.pyplot as plt \n",
    "\n",
    "# Set the backend of matplotlib to the 'inline' backend\n",
    "%matplotlib inline "
   ]
  },
  {
   "cell_type": "markdown",
   "metadata": {},
   "source": [
    "#### Define Functions \n",
    "To implement logistic regression, we need to define the following function:\n",
    "\n",
    "* Sigmoid Function:\n",
    "    The sigmoid function formula is\n",
    "    $$\\sigma(z)=\\frac{1}{1+e^{-z}}$$\n"
   ]
  },
  {
   "cell_type": "code",
   "execution_count": 2,
   "metadata": {},
   "outputs": [
    {
     "data": {
      "text/plain": [
       "Text(0.5, 1.0, 'Sigmoid Function')"
      ]
     },
     "execution_count": 2,
     "metadata": {},
     "output_type": "execute_result"
    },
    {
     "data": {
      "image/png": "[encoded data removed]",
      "text/plain": [
       "<Figure size 720x432 with 1 Axes>"
      ]
     },
     "metadata": {
      "needs_background": "light"
     },
     "output_type": "display_data"
    }
   ],
   "source": [
    "# Define sigmoid function\n",
    "def sigmoid(z):\n",
    "    return 1.0/(1.0 + np.exp(-z))\n",
    "\n",
    "# Plot the curve and check the sigmoid function\n",
    "domain = np.arange(-10, 10, .25)\n",
    "plt.figure(figsize=(10, 6))\n",
    "plt.plot(domain, sigmoid(domain))\n",
    "plt.title(\"Sigmoid Function\")"
   ]
  },
  {
   "cell_type": "markdown",
   "metadata": {},
   "source": [
    "* Cross entropy loss (CEL): The formula of CEL is\n",
    "    $$CEL = -Log[\\mathbb{P}(y|x)]=-y log \\hat y -(1-y)log(1-\\hat y)$$"
   ]
  },
  {
   "cell_type": "code",
   "execution_count": 3,
   "metadata": {},
   "outputs": [],
   "source": [
    "def cross_entropy_loss(y, y_hat):\n",
    "    return -y*np.log(y_hat) - (1.0-y)*np.log(1.0-y_hat)"
   ]
  },
  {
   "cell_type": "markdown",
   "metadata": {},
   "source": [
    "* The derivations of the CEL:\n",
    "$$\\triangledown L[w; (x,y)]=\n",
    "\\begin{bmatrix}\n",
    "\\frac{\\partial L}{\\partial w_j}=(\\hat y-y)x_j\\\\ \n",
    "\\frac{\\partial L}{\\partial b}=\\hat y-y\n",
    "\\end{bmatrix}$$"
   ]
  },
  {
   "cell_type": "code",
   "execution_count": 4,
   "metadata": {},
   "outputs": [],
   "source": [
    "def cross_entropy_gradient(y, y_hat, x, with_bias = True):\n",
    "    if with_bias == True:\n",
    "        dw = (y_hat - y)*x\n",
    "        db = (y_hat - y)\n",
    "        return dw, db \n",
    "    else:\n",
    "        dw = (y_hat - y)*x\n",
    "        return dw"
   ]
  },
  {
   "cell_type": "markdown",
   "metadata": {},
   "source": [
    "* Feed forward function: to feed the sigmoid function"
   ]
  },
  {
   "cell_type": "code",
   "execution_count": 5,
   "metadata": {},
   "outputs": [],
   "source": [
    "def feed_forward(x, w, b, with_bias = True):\n",
    "    if with_bias == True:\n",
    "        return sigmoid(w @ x + b)\n",
    "    else:\n",
    "        return sigmoid(w @ x)"
   ]
  },
  {
   "cell_type": "markdown",
   "metadata": {},
   "source": [
    "* Prediction function: "
   ]
  },
  {
   "cell_type": "code",
   "execution_count": 6,
   "metadata": {},
   "outputs": [],
   "source": [
    "def make_prediction(x, w, b):\n",
    "    y_hat = feed_forward(x, w, b)\n",
    "    labels = np.array([1, 0])\n",
    "    return np.random.choice(labels, p = [y_hat, 1.0-y_hat])"
   ]
  },
  {
   "cell_type": "markdown",
   "metadata": {},
   "source": [
    "#### Implement on the dataset"
   ]
  },
  {
   "cell_type": "code",
   "execution_count": 7,
   "metadata": {},
   "outputs": [
    {
     "data": {
      "text/html": [
       "<div>\n",
       "<style scoped>\n",
       "    .dataframe tbody tr th:only-of-type {\n",
       "        vertical-align: middle;\n",
       "    }\n",
       "\n",
       "    .dataframe tbody tr th {\n",
       "        vertical-align: top;\n",
       "    }\n",
       "\n",
       "    .dataframe thead th {\n",
       "        text-align: right;\n",
       "    }\n",
       "</style>\n",
       "<table border=\"1\" class=\"dataframe\">\n",
       "  <thead>\n",
       "    <tr style=\"text-align: right;\">\n",
       "      <th></th>\n",
       "      <th>gmat</th>\n",
       "      <th>gpa</th>\n",
       "      <th>work_experience</th>\n",
       "      <th>admitted</th>\n",
       "    </tr>\n",
       "  </thead>\n",
       "  <tbody>\n",
       "    <tr>\n",
       "      <th>0</th>\n",
       "      <td>780</td>\n",
       "      <td>4.0</td>\n",
       "      <td>3</td>\n",
       "      <td>1</td>\n",
       "    </tr>\n",
       "    <tr>\n",
       "      <th>1</th>\n",
       "      <td>750</td>\n",
       "      <td>3.9</td>\n",
       "      <td>4</td>\n",
       "      <td>1</td>\n",
       "    </tr>\n",
       "    <tr>\n",
       "      <th>2</th>\n",
       "      <td>690</td>\n",
       "      <td>3.3</td>\n",
       "      <td>3</td>\n",
       "      <td>0</td>\n",
       "    </tr>\n",
       "    <tr>\n",
       "      <th>3</th>\n",
       "      <td>710</td>\n",
       "      <td>3.7</td>\n",
       "      <td>5</td>\n",
       "      <td>1</td>\n",
       "    </tr>\n",
       "    <tr>\n",
       "      <th>4</th>\n",
       "      <td>680</td>\n",
       "      <td>3.9</td>\n",
       "      <td>4</td>\n",
       "      <td>0</td>\n",
       "    </tr>\n",
       "  </tbody>\n",
       "</table>\n",
       "</div>"
      ],
      "text/plain": [
       "   gmat  gpa  work_experience  admitted\n",
       "0   780  4.0                3         1\n",
       "1   750  3.9                4         1\n",
       "2   690  3.3                3         0\n",
       "3   710  3.7                5         1\n",
       "4   680  3.9                4         0"
      ]
     },
     "execution_count": 7,
     "metadata": {},
     "output_type": "execute_result"
    }
   ],
   "source": [
    "# Import candidates dataset\n",
    "df = pd.read_csv(\"Data/candidates_data.csv\")\n",
    "df.head()"
   ]
  },
  {
   "cell_type": "markdown",
   "metadata": {},
   "source": [
    "We want to use the GMAT score and the GPA of the students as features to predict the admission."
   ]
  },
  {
   "cell_type": "code",
   "execution_count": 8,
   "metadata": {},
   "outputs": [],
   "source": [
    "# Extract out desired features from candidates dataset, and covert features to numpy array\n",
    "X = df[[\"gmat\", \"gpa\"]].to_numpy()\n",
    "\n",
    "# Extract out labels, and convert labels to numpy array\n",
    "Y = df[\"admitted\"].to_numpy()"
   ]
  },
  {
   "cell_type": "code",
   "execution_count": 9,
   "metadata": {},
   "outputs": [
    {
     "data": {
      "text/plain": [
       "Text(0.5, 1.0, 'GMAT Score vs. GPA')"
      ]
     },
     "execution_count": 9,
     "metadata": {},
     "output_type": "execute_result"
    },
    {
     "data": {
      "image/png": "[encoded data removed]",
      "text/plain": [
       "<Figure size 720x432 with 1 Axes>"
      ]
     },
     "metadata": {
      "needs_background": "light"
     },
     "output_type": "display_data"
    }
   ],
   "source": [
    "# Plot the scatterplot, and have an overall impression of the data\n",
    "plt.figure(figsize=(10, 6))\n",
    "plt.scatter(X[:, 0], X[:, 1], c = Y)\n",
    "plt.xlabel(\"GMAT Score\")\n",
    "plt.ylabel(\"GPA\")\n",
    "plt.title(\"GMAT Score vs. GPA\")"
   ]
  },
  {
   "cell_type": "markdown",
   "metadata": {},
   "source": [
    "The two predictors are not in the same scale, and we need to rescale them. I will use both scaling to unit length and min-max normalization to scale the data and compare the performance of these two method.\n",
    "\n",
    "#### Scaling to unit length \n",
    "\n",
    "The general formula for Scaling to unit lengthis \n",
    "$$x'=\\frac{x}{||x||}$$ \n",
    "where $x$ is the original value and $x'$ is the normalized value. This means dividing each value by the Euclidean length of the vector."
   ]
  },
  {
   "cell_type": "code",
   "execution_count": 10,
   "metadata": {},
   "outputs": [],
   "source": [
    "# Use scaling to unit length to normalize the predictors\n",
    "X[:, 0] = X[:, 0]/np.linalg.norm(X[:, 0])\n",
    "X[:, 1] = X[:, 1]/np.linalg.norm(X[:, 1])"
   ]
  },
  {
   "cell_type": "code",
   "execution_count": 11,
   "metadata": {},
   "outputs": [
    {
     "data": {
      "text/plain": [
       "Text(0.5, 1.0, 'GMAT Score vs. GPA after Scaling to Unit Length')"
      ]
     },
     "execution_count": 11,
     "metadata": {},
     "output_type": "execute_result"
    },
    {
     "data": {
      "image/png": "[encoded data removed]",
      "text/plain": [
       "<Figure size 720x432 with 1 Axes>"
      ]
     },
     "metadata": {
      "needs_background": "light"
     },
     "output_type": "display_data"
    }
   ],
   "source": [
    "# Plot the scatterplot after scaling to unit length\n",
    "plt.figure(figsize=(10, 6))\n",
    "plt.scatter(X[:, 0], X[:, 1], c = Y)\n",
    "plt.xlabel(\"GMAT Score (Normalized)\")\n",
    "plt.ylabel(\"GPA (Normalized)\")\n",
    "plt.title(\"GMAT Score vs. GPA after Scaling to Unit Length\")"
   ]
  },
  {
   "cell_type": "markdown",
   "metadata": {},
   "source": [
    "After scaling to unit length, both predictors are in the same scale in $[0, 0.2]$."
   ]
  },
  {
   "cell_type": "code",
   "execution_count": 12,
   "metadata": {},
   "outputs": [
    {
     "data": {
      "text/plain": [
       "Text(0, 0.5, 'Accepted or not')"
      ]
     },
     "execution_count": 12,
     "metadata": {},
     "output_type": "execute_result"
    },
    {
     "data": {
      "image/png": "[encoded data removed]",
      "text/plain": [
       "<Figure size 720x432 with 1 Axes>"
      ]
     },
     "metadata": {
      "needs_background": "light"
     },
     "output_type": "display_data"
    }
   ],
   "source": [
    "plt.figure(figsize=(10, 6))\n",
    "plt.scatter(X[:, 0], Y, c = Y)\n",
    "plt.xlabel(\"GMAT Score (Normalized)\")\n",
    "plt.ylabel(\"Accepted or not\")"
   ]
  },
  {
   "cell_type": "code",
   "execution_count": 13,
   "metadata": {},
   "outputs": [
    {
     "data": {
      "text/plain": [
       "Text(0, 0.5, 'Accepted or not')"
      ]
     },
     "execution_count": 13,
     "metadata": {},
     "output_type": "execute_result"
    },
    {
     "data": {
      "image/png": "[encoded data removed]",
      "text/plain": [
       "<Figure size 720x432 with 1 Axes>"
      ]
     },
     "metadata": {
      "needs_background": "light"
     },
     "output_type": "display_data"
    }
   ],
   "source": [
    "plt.figure(figsize=(10, 6))\n",
    "plt.scatter(X[:, 1], Y, c = Y)\n",
    "plt.xlabel(\"GPA (Normalized)\")\n",
    "plt.ylabel(\"Accepted or not\")"
   ]
  },
  {
   "cell_type": "markdown",
   "metadata": {},
   "source": [
    "Let's implement Stochastic Gradient Descent. Set the learning rate at 0.25, and iterate for 10000 times."
   ]
  },
  {
   "cell_type": "code",
   "execution_count": 14,
   "metadata": {},
   "outputs": [
    {
     "name": "stdout",
     "output_type": "stream",
     "text": [
      "Total Loss at time 1 = 49.12539776668973\n",
      "Total Loss at time 1001 = 26.238581481783292\n",
      "Total Loss at time 2001 = 25.039492247946402\n",
      "Total Loss at time 3001 = 23.978791650750082\n",
      "Total Loss at time 4001 = 23.038074818149965\n",
      "Total Loss at time 5001 = 22.201188708097398\n",
      "Total Loss at time 6001 = 21.454130862636344\n",
      "Total Loss at time 7001 = 20.78486267627245\n",
      "Total Loss at time 8001 = 20.183086349048338\n",
      "Total Loss at time 9001 = 19.640016671812276\n"
     ]
    }
   ],
   "source": [
    "# Randomly initial w and b\n",
    "w = np.random.randn(2)\n",
    "b = np.random.randn()\n",
    "\n",
    "# Set up the learning rate\n",
    "alpha = 0.25\n",
    "\n",
    "# Implement Stochastic Gradient Descent \n",
    "for j in range(10_000):\n",
    "    i = np.random.randint(len(Y))\n",
    "    x = X[i, :]\n",
    "    y = Y[i]\n",
    "    temp_dw = []\n",
    "    temp_db = []\n",
    "    for x, y in zip(X, Y):\n",
    "        y_hat = feed_forward(x, w, b)\n",
    "        dw, db = cross_entropy_gradient(y, y_hat, x)\n",
    "        #w -= alpha*dw\n",
    "        #b -= alpha*db\n",
    "        temp_dw.append(dw)\n",
    "        temp_db.append(db)\n",
    "        \n",
    "    dw = sum(temp_dw)/len(temp_dw)\n",
    "    db = sum(temp_db)/len(temp_db)\n",
    "    w -= alpha*dw\n",
    "    b -= alpha*db\n",
    "    \n",
    "    total_loss = sum(cross_entropy_loss(Y[i], feed_forward(x, w, b))\n",
    "                    for i, x in enumerate(X))\n",
    "    \n",
    "    # Print the total loss every 1000 iterations\n",
    "    if j % 1_000 == 0:\n",
    "        print(f\"Total Loss at time {j+1} = {total_loss}\")"
   ]
  },
  {
   "cell_type": "markdown",
   "metadata": {},
   "source": [
    "The algorithm works well. The total loss gradually decreases.\n",
    "\n",
    "And then we can use our algorithm to predict, compare with the true label, and calculate the accurary of our prediction."
   ]
  },
  {
   "cell_type": "code",
   "execution_count": 15,
   "metadata": {},
   "outputs": [
    {
     "name": "stdout",
     "output_type": "stream",
     "text": [
      "Prediction: 0\n",
      "True label: 1\n",
      "\n",
      "Prediction: 1\n",
      "True label: 1\n",
      "\n",
      "Prediction: 1\n",
      "True label: 0\n",
      "\n",
      "Prediction: 0\n",
      "True label: 1\n",
      "\n",
      "Prediction: 1\n",
      "True label: 0\n",
      "\n",
      "Prediction: 1\n",
      "True label: 1\n",
      "\n",
      "Prediction: 1\n",
      "True label: 0\n",
      "\n",
      "Prediction: 1\n",
      "True label: 1\n",
      "\n",
      "Prediction: 1\n",
      "True label: 1\n",
      "\n",
      "Prediction: 0\n",
      "True label: 0\n",
      "\n",
      "Prediction: 1\n",
      "True label: 0\n",
      "\n",
      "Prediction: 1\n",
      "True label: 1\n",
      "\n",
      "Prediction: 1\n",
      "True label: 1\n",
      "\n",
      "Prediction: 0\n",
      "True label: 0\n",
      "\n",
      "Prediction: 0\n",
      "True label: 1\n",
      "\n",
      "Prediction: 0\n",
      "True label: 0\n",
      "\n",
      "Prediction: 1\n",
      "True label: 0\n",
      "\n",
      "Prediction: 0\n",
      "True label: 1\n",
      "\n",
      "Prediction: 0\n",
      "True label: 0\n",
      "\n",
      "Prediction: 1\n",
      "True label: 0\n",
      "\n",
      "Prediction: 1\n",
      "True label: 1\n",
      "\n",
      "Prediction: 0\n",
      "True label: 0\n",
      "\n",
      "Prediction: 0\n",
      "True label: 0\n",
      "\n",
      "Prediction: 0\n",
      "True label: 0\n",
      "\n",
      "Prediction: 0\n",
      "True label: 0\n",
      "\n",
      "Prediction: 0\n",
      "True label: 1\n",
      "\n",
      "Prediction: 1\n",
      "True label: 1\n",
      "\n",
      "Prediction: 0\n",
      "True label: 0\n",
      "\n",
      "Prediction: 1\n",
      "True label: 1\n",
      "\n",
      "Prediction: 0\n",
      "True label: 1\n",
      "\n",
      "Prediction: 0\n",
      "True label: 0\n",
      "\n",
      "Prediction: 1\n",
      "True label: 0\n",
      "\n",
      "Prediction: 0\n",
      "True label: 1\n",
      "\n",
      "Prediction: 0\n",
      "True label: 1\n",
      "\n",
      "Prediction: 1\n",
      "True label: 1\n",
      "\n",
      "Prediction: 1\n",
      "True label: 0\n",
      "\n",
      "Prediction: 0\n",
      "True label: 0\n",
      "\n",
      "Prediction: 0\n",
      "True label: 0\n",
      "\n",
      "Prediction: 0\n",
      "True label: 0\n",
      "\n",
      "Prediction: 1\n",
      "True label: 1\n",
      "\n",
      "Classification Percentage = 60.0%\n"
     ]
    }
   ],
   "source": [
    "hits = 0\n",
    "for x, y in zip(X, Y):\n",
    "    \n",
    "    # Predict using our algorithm\n",
    "    y_hat = make_prediction(x, w, b)\n",
    "    \n",
    "    # compare whether the prediction is the same as the real label\n",
    "    hits += int(y_hat == y)\n",
    "    \n",
    "    print(f\"Prediction: {y_hat}\")\n",
    "    print(f\"True label: {y}\")\n",
    "    print()\n",
    "\n",
    "# Calculate the accuracy and print it\n",
    "print(f\"Classification Percentage = {100* (hits/len(Y))}%\")"
   ]
  },
  {
   "cell_type": "markdown",
   "metadata": {},
   "source": [
    "The accuracy is 60.0%. The performance is not satisfying. \n",
    "\n",
    "Let's try another method of normalization.\n",
    "\n",
    "#### Min-max Normalization\n",
    "\n",
    "The general formula for min-max normalization is \n",
    "$$x'=\\frac{x-min(x)}{max(x)-min(x)}$$\n",
    "where $x$ is the original value and $x'$ is the normalized value."
   ]
  },
  {
   "cell_type": "code",
   "execution_count": 16,
   "metadata": {},
   "outputs": [],
   "source": [
    "# Extract out desired features from candidates dataset, and covert features to numpy array\n",
    "X = df[[\"gmat\", \"gpa\"]].to_numpy()\n",
    "\n",
    "# Extract out labels, and convert labels to numpy array\n",
    "Y = df[\"admitted\"].to_numpy()"
   ]
  },
  {
   "cell_type": "code",
   "execution_count": 17,
   "metadata": {},
   "outputs": [],
   "source": [
    "# Use min-max normalization to normalize the predictors\n",
    "X[:, 0] = (X[:, 0] - np.min(X[:, 0]))/(np.max(X[:, 0] - np.min(X[:, 0])))\n",
    "X[:, 1] = (X[:, 1] - np.min(X[:, 1]))/(np.max(X[:, 1] - np.min(X[:, 1])))"
   ]
  },
  {
   "cell_type": "code",
   "execution_count": 18,
   "metadata": {},
   "outputs": [
    {
     "data": {
      "text/plain": [
       "Text(0.5, 1.0, 'GMAT Score vs. GPA after Min-Max Normalization')"
      ]
     },
     "execution_count": 18,
     "metadata": {},
     "output_type": "execute_result"
    },
    {
     "data": {
      "image/png": "[encoded data removed]",
      "text/plain": [
       "<Figure size 720x432 with 1 Axes>"
      ]
     },
     "metadata": {
      "needs_background": "light"
     },
     "output_type": "display_data"
    }
   ],
   "source": [
    "# Plot the scatterplot after scaling to unit length\n",
    "plt.figure(figsize=(10, 6))\n",
    "plt.scatter(X[:, 0], X[:, 1], c = Y)\n",
    "plt.xlabel(\"GMAT Score (Normalized)\")\n",
    "plt.ylabel(\"GPA (Normalized)\")\n",
    "plt.title(\"GMAT Score vs. GPA after Min-Max Normalization\")"
   ]
  },
  {
   "cell_type": "markdown",
   "metadata": {},
   "source": [
    "After scaling to unit length, both predictors are in the same scale in $[0,1]$."
   ]
  },
  {
   "cell_type": "code",
   "execution_count": 19,
   "metadata": {},
   "outputs": [
    {
     "data": {
      "text/plain": [
       "Text(0, 0.5, 'Accepted or not')"
      ]
     },
     "execution_count": 19,
     "metadata": {},
     "output_type": "execute_result"
    },
    {
     "data": {
      "image/png": "[encoded data removed]",
      "text/plain": [
       "<Figure size 720x432 with 1 Axes>"
      ]
     },
     "metadata": {
      "needs_background": "light"
     },
     "output_type": "display_data"
    }
   ],
   "source": [
    "plt.figure(figsize=(10, 6))\n",
    "plt.scatter(X[:, 0], Y, c = Y)\n",
    "plt.xlabel(\"GMAT Score (Normalized)\")\n",
    "plt.ylabel(\"Accepted or not\")"
   ]
  },
  {
   "cell_type": "code",
   "execution_count": 20,
   "metadata": {},
   "outputs": [
    {
     "data": {
      "text/plain": [
       "Text(0, 0.5, 'Accepted or not')"
      ]
     },
     "execution_count": 20,
     "metadata": {},
     "output_type": "execute_result"
    },
    {
     "data": {
      "image/png": "[encoded data removed]",
      "text/plain": [
       "<Figure size 720x432 with 1 Axes>"
      ]
     },
     "metadata": {
      "needs_background": "light"
     },
     "output_type": "display_data"
    }
   ],
   "source": [
    "plt.figure(figsize=(10, 6))\n",
    "plt.scatter(X[:, 1], Y, c = Y)\n",
    "plt.xlabel(\"GPA (Normalized)\")\n",
    "plt.ylabel(\"Accepted or not\")"
   ]
  },
  {
   "cell_type": "markdown",
   "metadata": {},
   "source": [
    "Similarly, for implement Stochastic Gradient Descent, set the learning rate at 0.25 and iterate for 10000 times."
   ]
  },
  {
   "cell_type": "code",
   "execution_count": 21,
   "metadata": {},
   "outputs": [
    {
     "name": "stdout",
     "output_type": "stream",
     "text": [
      "Total Loss at time 1 = 31.939755338552818\n",
      "Total Loss at time 1001 = 11.891323512598666\n",
      "Total Loss at time 2001 = 11.141027897316954\n",
      "Total Loss at time 3001 = 10.917322537695775\n",
      "Total Loss at time 4001 = 10.825726051811369\n",
      "Total Loss at time 5001 = 10.782011804872793\n",
      "Total Loss at time 6001 = 10.759190047455503\n",
      "Total Loss at time 7001 = 10.746569056241512\n",
      "Total Loss at time 8001 = 10.739312136575672\n",
      "Total Loss at time 9001 = 10.735024218064927\n"
     ]
    }
   ],
   "source": [
    "# Randomly initial w and b\n",
    "w = np.random.randn(2)\n",
    "b = np.random.randn()\n",
    "\n",
    "# Set up the learning rate\n",
    "alpha = 0.25\n",
    "\n",
    "# Implement Stochastic Gradient Descent \n",
    "for j in range(10_000):\n",
    "    i = np.random.randint(len(Y))\n",
    "    x = X[i, :]\n",
    "    y = Y[i]\n",
    "    temp_dw = []\n",
    "    temp_db = []\n",
    "    for x, y in zip(X, Y):\n",
    "        y_hat = feed_forward(x, w, b)\n",
    "        dw, db = cross_entropy_gradient(y, y_hat, x)\n",
    "        #w -= alpha*dw\n",
    "        #b -= alpha*db\n",
    "        temp_dw.append(dw)\n",
    "        temp_db.append(db)\n",
    "        \n",
    "    dw = sum(temp_dw)/len(temp_dw)\n",
    "    db = sum(temp_db)/len(temp_db)\n",
    "    w -= alpha*dw\n",
    "    b -= alpha*db\n",
    "    \n",
    "    total_loss = sum(cross_entropy_loss(Y[i], feed_forward(x, w, b))\n",
    "                    for i, x in enumerate(X))\n",
    "    # Print the total loss every 1000 iterations\n",
    "    if j % 1_000 == 0:\n",
    "        print(f\"Total Loss at time {j+1} = {total_loss}\")"
   ]
  },
  {
   "cell_type": "markdown",
   "metadata": {},
   "source": [
    "The algorithm works well. The total loss gradually decreases. \n",
    "\n",
    "And then we then also use the algorithm to predict, compare with the true label, and calculate the accurary of the prediction."
   ]
  },
  {
   "cell_type": "code",
   "execution_count": 22,
   "metadata": {},
   "outputs": [
    {
     "name": "stdout",
     "output_type": "stream",
     "text": [
      "Prediction: 1\n",
      "True label: 1\n",
      "\n",
      "Prediction: 1\n",
      "True label: 1\n",
      "\n",
      "Prediction: 0\n",
      "True label: 0\n",
      "\n",
      "Prediction: 1\n",
      "True label: 1\n",
      "\n",
      "Prediction: 1\n",
      "True label: 0\n",
      "\n",
      "Prediction: 1\n",
      "True label: 1\n",
      "\n",
      "Prediction: 0\n",
      "True label: 0\n",
      "\n",
      "Prediction: 0\n",
      "True label: 1\n",
      "\n",
      "Prediction: 0\n",
      "True label: 1\n",
      "\n",
      "Prediction: 0\n",
      "True label: 0\n",
      "\n",
      "Prediction: 0\n",
      "True label: 0\n",
      "\n",
      "Prediction: 1\n",
      "True label: 1\n",
      "\n",
      "Prediction: 1\n",
      "True label: 1\n",
      "\n",
      "Prediction: 1\n",
      "True label: 0\n",
      "\n",
      "Prediction: 1\n",
      "True label: 1\n",
      "\n",
      "Prediction: 0\n",
      "True label: 0\n",
      "\n",
      "Prediction: 0\n",
      "True label: 0\n",
      "\n",
      "Prediction: 1\n",
      "True label: 1\n",
      "\n",
      "Prediction: 0\n",
      "True label: 0\n",
      "\n",
      "Prediction: 0\n",
      "True label: 0\n",
      "\n",
      "Prediction: 0\n",
      "True label: 1\n",
      "\n",
      "Prediction: 0\n",
      "True label: 0\n",
      "\n",
      "Prediction: 0\n",
      "True label: 0\n",
      "\n",
      "Prediction: 0\n",
      "True label: 0\n",
      "\n",
      "Prediction: 0\n",
      "True label: 0\n",
      "\n",
      "Prediction: 1\n",
      "True label: 1\n",
      "\n",
      "Prediction: 1\n",
      "True label: 1\n",
      "\n",
      "Prediction: 0\n",
      "True label: 0\n",
      "\n",
      "Prediction: 0\n",
      "True label: 1\n",
      "\n",
      "Prediction: 1\n",
      "True label: 1\n",
      "\n",
      "Prediction: 0\n",
      "True label: 0\n",
      "\n",
      "Prediction: 0\n",
      "True label: 0\n",
      "\n",
      "Prediction: 1\n",
      "True label: 1\n",
      "\n",
      "Prediction: 0\n",
      "True label: 1\n",
      "\n",
      "Prediction: 1\n",
      "True label: 1\n",
      "\n",
      "Prediction: 0\n",
      "True label: 0\n",
      "\n",
      "Prediction: 0\n",
      "True label: 0\n",
      "\n",
      "Prediction: 0\n",
      "True label: 0\n",
      "\n",
      "Prediction: 0\n",
      "True label: 0\n",
      "\n",
      "Prediction: 0\n",
      "True label: 1\n",
      "\n",
      "Classification Percentage = 80.0%\n"
     ]
    }
   ],
   "source": [
    "hits = 0\n",
    "for x, y in zip(X, Y):\n",
    "    \n",
    "    # Predict using our algorithm\n",
    "    y_hat = make_prediction(x, w, b)\n",
    "    \n",
    "    # compare whether the prediction is the same as the real label\n",
    "    hits += int(y_hat == y)\n",
    "    \n",
    "    print(f\"Prediction: {y_hat}\")\n",
    "    print(f\"True label: {y}\")\n",
    "    print()\n",
    "\n",
    "# Calculate the accuracy and print it\n",
    "print(f\"Classification Percentage = {100* (hits/len(Y))}%\")"
   ]
  },
  {
   "cell_type": "markdown",
   "metadata": {},
   "source": [
    "The accuracy is 80.0%, which is better than the accuracy when using the method of scaling to unit length.\n",
    "\n",
    "#### Conclusion\n",
    "\n",
    "Our algorithm works well. \n",
    "\n",
    "Different data normalization methods affect the performance of the algorithm. For the candidates dataset, min-max normalization works better than scaling to the unit length, when using GMAT score and GPA to predict the admission of the college."
   ]
  }
 ],
 "metadata": {
  "kernelspec": {
   "display_name": "Python 3.10.6 64-bit",
   "language": "python",
   "name": "python3"
  },
  "language_info": {
   "codemirror_mode": {
    "name": "ipython",
    "version": 3
   },
   "file_extension": ".py",
   "mimetype": "text/x-python",
   "name": "python",
   "nbconvert_exporter": "python",
   "pygments_lexer": "ipython3",
   "version": "3.10.6"
  },
  "vscode": {
   "interpreter": {
    "hash": "aee8b7b246df8f9039afb4144a1f6fd8d2ca17a180786b69acc140d282b71a49"
   }
  }
 },
 "nbformat": 4,
 "nbformat_minor": 5
}
